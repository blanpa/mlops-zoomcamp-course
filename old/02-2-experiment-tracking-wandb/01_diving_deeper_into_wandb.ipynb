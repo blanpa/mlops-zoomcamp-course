{
 "cells": [
  {
   "attachments": {},
   "cell_type": "markdown",
   "metadata": {},
   "source": [
    "# Diving Deeper into Weights & Biases\n",
    "\n",
    "<!--- @wandbcode{mlops-zoomcamp} -->\n",
    "\n",
    "In this notebook, we will explore the following\n",
    "\n",
    "* Versioning datasets using [Artifacts](https://docs.wandb.ai/guides/artifacts).\n",
    "* Exploring and visualizing our datasets with [Tables](https://docs.wandb.ai/guides/data-vis).\n",
    "* Baseline Experiment with a Random Forest Classification Model."
   ]
  },
  {
   "attachments": {},
   "cell_type": "markdown",
   "metadata": {},
   "source": [
    "## Import the Libraries"
   ]
  },
  {
   "cell_type": "code",
   "execution_count": 6,
   "metadata": {},
   "outputs": [],
   "source": [
    "import os\n",
    "import pickle\n",
    "\n",
    "import wandb\n",
    "import pandas as pd\n",
    "\n",
    "from sklearn.ensemble import RandomForestClassifier\n",
    "from sklearn.metrics import accuracy_score, f1_score, precision_score, recall_score"
   ]
  },
  {
   "attachments": {},
   "cell_type": "markdown",
   "metadata": {},
   "source": [
    "## Logging Dataset to Artifacts"
   ]
  },
  {
   "attachments": {},
   "cell_type": "markdown",
   "metadata": {},
   "source": [
    "Download the `train.csv` and `test.csv` files from [Titanic - Machine Learning from Disaster](https://www.kaggle.com/competitions/titanic/data) and place them in the `data` directory."
   ]
  },
  {
   "cell_type": "code",
   "execution_count": 7,
   "metadata": {},
   "outputs": [
    {
     "data": {
      "text/html": [
       "Finishing last run (ID:su7ytn9o) before initializing another..."
      ],
      "text/plain": [
       "<IPython.core.display.HTML object>"
      ]
     },
     "metadata": {},
     "output_type": "display_data"
    },
    {
     "data": {
      "text/html": [
       "Waiting for W&B process to finish... <strong style=\"color:green\">(success).</strong>"
      ],
      "text/plain": [
       "<IPython.core.display.HTML object>"
      ]
     },
     "metadata": {},
     "output_type": "display_data"
    },
    {
     "data": {
      "application/vnd.jupyter.widget-view+json": {
       "model_id": "be030a1e8cec4cce947643279af64bd5",
       "version_major": 2,
       "version_minor": 0
      },
      "text/plain": [
       "VBox(children=(Label(value='0.001 MB of 0.009 MB uploaded (0.000 MB deduped)\\r'), FloatProgress(value=0.128362…"
      ]
     },
     "metadata": {},
     "output_type": "display_data"
    },
    {
     "data": {
      "text/html": [
       " View run <strong style=\"color:#cdcd00\">classic-lion-7</strong> at: <a href='https://wandb.ai/pascalblanc/mlops-zoomcamp-wandb/runs/su7ytn9o' target=\"_blank\">https://wandb.ai/pascalblanc/mlops-zoomcamp-wandb/runs/su7ytn9o</a><br/>Synced 5 W&B file(s), 0 media file(s), 0 artifact file(s) and 0 other file(s)"
      ],
      "text/plain": [
       "<IPython.core.display.HTML object>"
      ]
     },
     "metadata": {},
     "output_type": "display_data"
    },
    {
     "data": {
      "text/html": [
       "Find logs at: <code>./wandb/run-20230605_215104-su7ytn9o/logs</code>"
      ],
      "text/plain": [
       "<IPython.core.display.HTML object>"
      ]
     },
     "metadata": {},
     "output_type": "display_data"
    },
    {
     "data": {
      "text/html": [
       "Successfully finished last run (ID:su7ytn9o). Initializing new run:<br/>"
      ],
      "text/plain": [
       "<IPython.core.display.HTML object>"
      ]
     },
     "metadata": {},
     "output_type": "display_data"
    },
    {
     "data": {
      "application/vnd.jupyter.widget-view+json": {
       "model_id": "93168833fbe742e3a99c7277f1db7026",
       "version_major": 2,
       "version_minor": 0
      },
      "text/plain": [
       "VBox(children=(Label(value='Waiting for wandb.init()...\\r'), FloatProgress(value=0.016679794616660124, max=1.0…"
      ]
     },
     "metadata": {},
     "output_type": "display_data"
    },
    {
     "data": {
      "text/html": [
       "Tracking run with wandb version 0.15.3"
      ],
      "text/plain": [
       "<IPython.core.display.HTML object>"
      ]
     },
     "metadata": {},
     "output_type": "display_data"
    },
    {
     "data": {
      "text/html": [
       "Run data is saved locally in <code>/home/pascal/Projects/my/mlops-zoomcamp/02-2-experiment-tracking-wandb/wandb/run-20230605_215205-kwwwtq7p</code>"
      ],
      "text/plain": [
       "<IPython.core.display.HTML object>"
      ]
     },
     "metadata": {},
     "output_type": "display_data"
    },
    {
     "data": {
      "text/html": [
       "Syncing run <strong><a href='https://wandb.ai/pascalblanc/mlops-zoomcamp-wandb/runs/kwwwtq7p' target=\"_blank\">neat-fire-8</a></strong> to <a href='https://wandb.ai/pascalblanc/mlops-zoomcamp-wandb' target=\"_blank\">Weights & Biases</a> (<a href='https://wandb.me/run' target=\"_blank\">docs</a>)<br/>"
      ],
      "text/plain": [
       "<IPython.core.display.HTML object>"
      ]
     },
     "metadata": {},
     "output_type": "display_data"
    },
    {
     "data": {
      "text/html": [
       " View project at <a href='https://wandb.ai/pascalblanc/mlops-zoomcamp-wandb' target=\"_blank\">https://wandb.ai/pascalblanc/mlops-zoomcamp-wandb</a>"
      ],
      "text/plain": [
       "<IPython.core.display.HTML object>"
      ]
     },
     "metadata": {},
     "output_type": "display_data"
    },
    {
     "data": {
      "text/html": [
       " View run at <a href='https://wandb.ai/pascalblanc/mlops-zoomcamp-wandb/runs/kwwwtq7p' target=\"_blank\">https://wandb.ai/pascalblanc/mlops-zoomcamp-wandb/runs/kwwwtq7p</a>"
      ],
      "text/plain": [
       "<IPython.core.display.HTML object>"
      ]
     },
     "metadata": {},
     "output_type": "display_data"
    },
    {
     "name": "stderr",
     "output_type": "stream",
     "text": [
      "\u001b[34m\u001b[1mwandb\u001b[0m: Adding directory to artifact (./data)... Done. 0.0s\n"
     ]
    },
    {
     "data": {
      "text/html": [
       "Waiting for W&B process to finish... <strong style=\"color:green\">(success).</strong>"
      ],
      "text/plain": [
       "<IPython.core.display.HTML object>"
      ]
     },
     "metadata": {},
     "output_type": "display_data"
    },
    {
     "data": {
      "text/html": [
       " View run <strong style=\"color:#cdcd00\">neat-fire-8</strong> at: <a href='https://wandb.ai/pascalblanc/mlops-zoomcamp-wandb/runs/kwwwtq7p' target=\"_blank\">https://wandb.ai/pascalblanc/mlops-zoomcamp-wandb/runs/kwwwtq7p</a><br/>Synced 6 W&B file(s), 0 media file(s), 3 artifact file(s) and 0 other file(s)"
      ],
      "text/plain": [
       "<IPython.core.display.HTML object>"
      ]
     },
     "metadata": {},
     "output_type": "display_data"
    },
    {
     "data": {
      "text/html": [
       "Find logs at: <code>./wandb/run-20230605_215205-kwwwtq7p/logs</code>"
      ],
      "text/plain": [
       "<IPython.core.display.HTML object>"
      ]
     },
     "metadata": {},
     "output_type": "display_data"
    }
   ],
   "source": [
    "# Initialize a WandB Run\n",
    "wandb.init(project=\"mlops-zoomcamp-wandb\", job_type=\"log_data\")\n",
    "\n",
    "# Log the `data` directory as an artifact\n",
    "artifact = wandb.Artifact('Titanic', type='dataset', metadata={\"Source\": \"https://www.kaggle.com/competitions/titanic/data\"})\n",
    "artifact.add_dir('data')\n",
    "wandb.log_artifact(artifact)\n",
    "\n",
    "# End the WandB Run\n",
    "wandb.finish()"
   ]
  },
  {
   "attachments": {},
   "cell_type": "markdown",
   "metadata": {},
   "source": [
    "## Versioning the Data"
   ]
  },
  {
   "cell_type": "code",
   "execution_count": 11,
   "metadata": {},
   "outputs": [
    {
     "data": {
      "text/html": [
       "Finishing last run (ID:a3zrmjig) before initializing another..."
      ],
      "text/plain": [
       "<IPython.core.display.HTML object>"
      ]
     },
     "metadata": {},
     "output_type": "display_data"
    },
    {
     "data": {
      "text/html": [
       "Waiting for W&B process to finish... <strong style=\"color:green\">(success).</strong>"
      ],
      "text/plain": [
       "<IPython.core.display.HTML object>"
      ]
     },
     "metadata": {},
     "output_type": "display_data"
    },
    {
     "data": {
      "text/html": [
       " View run <strong style=\"color:#cdcd00\">hopeful-sunset-10</strong> at: <a href='https://wandb.ai/pascalblanc/mlops-zoomcamp-wandb/runs/a3zrmjig' target=\"_blank\">https://wandb.ai/pascalblanc/mlops-zoomcamp-wandb/runs/a3zrmjig</a><br/>Synced 6 W&B file(s), 0 media file(s), 0 artifact file(s) and 0 other file(s)"
      ],
      "text/plain": [
       "<IPython.core.display.HTML object>"
      ]
     },
     "metadata": {},
     "output_type": "display_data"
    },
    {
     "data": {
      "text/html": [
       "Find logs at: <code>./wandb/run-20230605_215430-a3zrmjig/logs</code>"
      ],
      "text/plain": [
       "<IPython.core.display.HTML object>"
      ]
     },
     "metadata": {},
     "output_type": "display_data"
    },
    {
     "data": {
      "text/html": [
       "Successfully finished last run (ID:a3zrmjig). Initializing new run:<br/>"
      ],
      "text/plain": [
       "<IPython.core.display.HTML object>"
      ]
     },
     "metadata": {},
     "output_type": "display_data"
    },
    {
     "data": {
      "application/vnd.jupyter.widget-view+json": {
       "model_id": "420b7b45111947ba943433e05d5cb26c",
       "version_major": 2,
       "version_minor": 0
      },
      "text/plain": [
       "VBox(children=(Label(value='Waiting for wandb.init()...\\r'), FloatProgress(value=0.01667485510000309, max=1.0)…"
      ]
     },
     "metadata": {},
     "output_type": "display_data"
    },
    {
     "data": {
      "text/html": [
       "Tracking run with wandb version 0.15.3"
      ],
      "text/plain": [
       "<IPython.core.display.HTML object>"
      ]
     },
     "metadata": {},
     "output_type": "display_data"
    },
    {
     "data": {
      "text/html": [
       "Run data is saved locally in <code>/home/pascal/Projects/my/mlops-zoomcamp/02-2-experiment-tracking-wandb/wandb/run-20230605_215606-hwfu9wa1</code>"
      ],
      "text/plain": [
       "<IPython.core.display.HTML object>"
      ]
     },
     "metadata": {},
     "output_type": "display_data"
    },
    {
     "data": {
      "text/html": [
       "Syncing run <strong><a href='https://wandb.ai/pascalblanc/mlops-zoomcamp-wandb/runs/hwfu9wa1' target=\"_blank\">blooming-lion-11</a></strong> to <a href='https://wandb.ai/pascalblanc/mlops-zoomcamp-wandb' target=\"_blank\">Weights & Biases</a> (<a href='https://wandb.me/run' target=\"_blank\">docs</a>)<br/>"
      ],
      "text/plain": [
       "<IPython.core.display.HTML object>"
      ]
     },
     "metadata": {},
     "output_type": "display_data"
    },
    {
     "data": {
      "text/html": [
       " View project at <a href='https://wandb.ai/pascalblanc/mlops-zoomcamp-wandb' target=\"_blank\">https://wandb.ai/pascalblanc/mlops-zoomcamp-wandb</a>"
      ],
      "text/plain": [
       "<IPython.core.display.HTML object>"
      ]
     },
     "metadata": {},
     "output_type": "display_data"
    },
    {
     "data": {
      "text/html": [
       " View run at <a href='https://wandb.ai/pascalblanc/mlops-zoomcamp-wandb/runs/hwfu9wa1' target=\"_blank\">https://wandb.ai/pascalblanc/mlops-zoomcamp-wandb/runs/hwfu9wa1</a>"
      ],
      "text/plain": [
       "<IPython.core.display.HTML object>"
      ]
     },
     "metadata": {},
     "output_type": "display_data"
    },
    {
     "name": "stderr",
     "output_type": "stream",
     "text": [
      "\u001b[34m\u001b[1mwandb\u001b[0m:   3 of 3 files downloaded.  \n"
     ]
    }
   ],
   "source": [
    "# Initialize a WandB Run\n",
    "wandb.init(project=\"mlops-zoomcamp-wandb\", job_type=\"log_data\")\n",
    "\n",
    "# Fetch the dataset artifact \n",
    "artifact = wandb.use_artifact('pascalblanc/mlops-zoomcamp-wandb/Titanic:v1', type='dataset')\n",
    "artifact_dir = artifact.download()"
   ]
  },
  {
   "attachments": {},
   "cell_type": "markdown",
   "metadata": {},
   "source": [
    "Read the dataset files"
   ]
  },
  {
   "cell_type": "code",
   "execution_count": 12,
   "metadata": {},
   "outputs": [],
   "source": [
    "train_df = pd.read_csv(os.path.join(artifact_dir, \"train.csv\"))\n",
    "test_df = pd.read_csv(os.path.join(artifact_dir, \"test.csv\"))"
   ]
  },
  {
   "cell_type": "code",
   "execution_count": 13,
   "metadata": {},
   "outputs": [
    {
     "name": "stdout",
     "output_type": "stream",
     "text": [
      "712 179\n"
     ]
    }
   ],
   "source": [
    "num_train_examples = int(0.8 * len(train_df))\n",
    "num_val_examples = len(train_df) - num_train_examples\n",
    "\n",
    "print(num_train_examples, num_val_examples)"
   ]
  },
  {
   "cell_type": "code",
   "execution_count": 14,
   "metadata": {},
   "outputs": [],
   "source": [
    "train_df[\"Split\"] = [\"Train\"] * num_train_examples + [\"Validation\"] * num_val_examples\n",
    "train_df.to_csv(\"data/train.csv\", encoding='utf-8', index=False)"
   ]
  },
  {
   "cell_type": "code",
   "execution_count": 15,
   "metadata": {},
   "outputs": [
    {
     "name": "stderr",
     "output_type": "stream",
     "text": [
      "\u001b[34m\u001b[1mwandb\u001b[0m: Adding directory to artifact (./data)... Done. 0.0s\n"
     ]
    },
    {
     "data": {
      "text/html": [
       "Waiting for W&B process to finish... <strong style=\"color:green\">(success).</strong>"
      ],
      "text/plain": [
       "<IPython.core.display.HTML object>"
      ]
     },
     "metadata": {},
     "output_type": "display_data"
    },
    {
     "data": {
      "text/html": [
       " View run <strong style=\"color:#cdcd00\">blooming-lion-11</strong> at: <a href='https://wandb.ai/pascalblanc/mlops-zoomcamp-wandb/runs/hwfu9wa1' target=\"_blank\">https://wandb.ai/pascalblanc/mlops-zoomcamp-wandb/runs/hwfu9wa1</a><br/>Synced 6 W&B file(s), 0 media file(s), 3 artifact file(s) and 0 other file(s)"
      ],
      "text/plain": [
       "<IPython.core.display.HTML object>"
      ]
     },
     "metadata": {},
     "output_type": "display_data"
    },
    {
     "data": {
      "text/html": [
       "Find logs at: <code>./wandb/run-20230605_215606-hwfu9wa1/logs</code>"
      ],
      "text/plain": [
       "<IPython.core.display.HTML object>"
      ]
     },
     "metadata": {},
     "output_type": "display_data"
    }
   ],
   "source": [
    "# Log the `data` directory as an artifact\n",
    "artifact = wandb.Artifact('Titanic', type='dataset', metadata={\"Source\": \"https://www.kaggle.com/competitions/titanic/data\"})\n",
    "artifact.add_dir('data')\n",
    "wandb.log_artifact(artifact)\n",
    "\n",
    "# End the WandB Run\n",
    "wandb.finish()"
   ]
  },
  {
   "attachments": {},
   "cell_type": "markdown",
   "metadata": {},
   "source": [
    "## Explore the Dataset"
   ]
  },
  {
   "cell_type": "code",
   "execution_count": 17,
   "metadata": {},
   "outputs": [
    {
     "data": {
      "text/html": [
       "Finishing last run (ID:x7hs7bmj) before initializing another..."
      ],
      "text/plain": [
       "<IPython.core.display.HTML object>"
      ]
     },
     "metadata": {},
     "output_type": "display_data"
    },
    {
     "data": {
      "text/html": [
       "Waiting for W&B process to finish... <strong style=\"color:green\">(success).</strong>"
      ],
      "text/plain": [
       "<IPython.core.display.HTML object>"
      ]
     },
     "metadata": {},
     "output_type": "display_data"
    },
    {
     "data": {
      "application/vnd.jupyter.widget-view+json": {
       "model_id": "963bddfa69894ca5aeb1699366b9ccf7",
       "version_major": 2,
       "version_minor": 0
      },
      "text/plain": [
       "VBox(children=(Label(value='0.001 MB of 0.009 MB uploaded (0.000 MB deduped)\\r'), FloatProgress(value=0.125651…"
      ]
     },
     "metadata": {},
     "output_type": "display_data"
    },
    {
     "data": {
      "text/html": [
       " View run <strong style=\"color:#cdcd00\">dry-fire-12</strong> at: <a href='https://wandb.ai/pascalblanc/mlops-zoomcamp-wandb/runs/x7hs7bmj' target=\"_blank\">https://wandb.ai/pascalblanc/mlops-zoomcamp-wandb/runs/x7hs7bmj</a><br/>Synced 5 W&B file(s), 0 media file(s), 0 artifact file(s) and 0 other file(s)"
      ],
      "text/plain": [
       "<IPython.core.display.HTML object>"
      ]
     },
     "metadata": {},
     "output_type": "display_data"
    },
    {
     "data": {
      "text/html": [
       "Find logs at: <code>./wandb/run-20230605_215908-x7hs7bmj/logs</code>"
      ],
      "text/plain": [
       "<IPython.core.display.HTML object>"
      ]
     },
     "metadata": {},
     "output_type": "display_data"
    },
    {
     "data": {
      "text/html": [
       "Successfully finished last run (ID:x7hs7bmj). Initializing new run:<br/>"
      ],
      "text/plain": [
       "<IPython.core.display.HTML object>"
      ]
     },
     "metadata": {},
     "output_type": "display_data"
    },
    {
     "data": {
      "application/vnd.jupyter.widget-view+json": {
       "model_id": "b0bc1b337e15433ea59c8f53d491287a",
       "version_major": 2,
       "version_minor": 0
      },
      "text/plain": [
       "VBox(children=(Label(value='Waiting for wandb.init()...\\r'), FloatProgress(value=0.01667149841665984, max=1.0)…"
      ]
     },
     "metadata": {},
     "output_type": "display_data"
    },
    {
     "data": {
      "text/html": [
       "Tracking run with wandb version 0.15.3"
      ],
      "text/plain": [
       "<IPython.core.display.HTML object>"
      ]
     },
     "metadata": {},
     "output_type": "display_data"
    },
    {
     "data": {
      "text/html": [
       "Run data is saved locally in <code>/home/pascal/Projects/my/mlops-zoomcamp/02-2-experiment-tracking-wandb/wandb/run-20230605_215925-rt2nmhad</code>"
      ],
      "text/plain": [
       "<IPython.core.display.HTML object>"
      ]
     },
     "metadata": {},
     "output_type": "display_data"
    },
    {
     "data": {
      "text/html": [
       "Syncing run <strong><a href='https://wandb.ai/pascalblanc/mlops-zoomcamp-wandb/runs/rt2nmhad' target=\"_blank\">glowing-water-13</a></strong> to <a href='https://wandb.ai/pascalblanc/mlops-zoomcamp-wandb' target=\"_blank\">Weights & Biases</a> (<a href='https://wandb.me/run' target=\"_blank\">docs</a>)<br/>"
      ],
      "text/plain": [
       "<IPython.core.display.HTML object>"
      ]
     },
     "metadata": {},
     "output_type": "display_data"
    },
    {
     "data": {
      "text/html": [
       " View project at <a href='https://wandb.ai/pascalblanc/mlops-zoomcamp-wandb' target=\"_blank\">https://wandb.ai/pascalblanc/mlops-zoomcamp-wandb</a>"
      ],
      "text/plain": [
       "<IPython.core.display.HTML object>"
      ]
     },
     "metadata": {},
     "output_type": "display_data"
    },
    {
     "data": {
      "text/html": [
       " View run at <a href='https://wandb.ai/pascalblanc/mlops-zoomcamp-wandb/runs/rt2nmhad' target=\"_blank\">https://wandb.ai/pascalblanc/mlops-zoomcamp-wandb/runs/rt2nmhad</a>"
      ],
      "text/plain": [
       "<IPython.core.display.HTML object>"
      ]
     },
     "metadata": {},
     "output_type": "display_data"
    },
    {
     "name": "stderr",
     "output_type": "stream",
     "text": [
      "\u001b[34m\u001b[1mwandb\u001b[0m:   3 of 3 files downloaded.  \n"
     ]
    }
   ],
   "source": [
    "# Initialize a WandB Run\n",
    "wandb.init(project=\"mlops-zoomcamp-wandb\", job_type=\"explore_data\")\n",
    "\n",
    "# Fetch the latest version of the dataset artifact \n",
    "artifact = wandb.use_artifact('pascalblanc/mlops-zoomcamp-wandb/Titanic:latest', type='dataset')\n",
    "artifact_dir = artifact.download()\n",
    "\n",
    "# Read the files\n",
    "train_val_df = pd.read_csv(os.path.join(artifact_dir, \"train.csv\"))\n",
    "test_df = pd.read_csv(os.path.join(artifact_dir, \"test.csv\"))"
   ]
  },
  {
   "cell_type": "code",
   "execution_count": 18,
   "metadata": {},
   "outputs": [
    {
     "data": {
      "text/html": [
       "Waiting for W&B process to finish... <strong style=\"color:green\">(success).</strong>"
      ],
      "text/plain": [
       "<IPython.core.display.HTML object>"
      ]
     },
     "metadata": {},
     "output_type": "display_data"
    },
    {
     "data": {
      "text/html": [
       " View run <strong style=\"color:#cdcd00\">glowing-water-13</strong> at: <a href='https://wandb.ai/pascalblanc/mlops-zoomcamp-wandb/runs/rt2nmhad' target=\"_blank\">https://wandb.ai/pascalblanc/mlops-zoomcamp-wandb/runs/rt2nmhad</a><br/>Synced 6 W&B file(s), 2 media file(s), 2 artifact file(s) and 0 other file(s)"
      ],
      "text/plain": [
       "<IPython.core.display.HTML object>"
      ]
     },
     "metadata": {},
     "output_type": "display_data"
    },
    {
     "data": {
      "text/html": [
       "Find logs at: <code>./wandb/run-20230605_215925-rt2nmhad/logs</code>"
      ],
      "text/plain": [
       "<IPython.core.display.HTML object>"
      ]
     },
     "metadata": {},
     "output_type": "display_data"
    }
   ],
   "source": [
    "# Create tables corresponding to datasets\n",
    "train_val_table = wandb.Table(dataframe=train_val_df)\n",
    "test_table = wandb.Table(dataframe=test_df)\n",
    "\n",
    "# Log the tables to Weights & Biases\n",
    "wandb.log({\n",
    "    \"Train-Val-Table\": train_val_table,\n",
    "    \"Test-Table\": test_table\n",
    "})\n",
    "\n",
    "# End the WandB Run\n",
    "wandb.finish()"
   ]
  },
  {
   "attachments": {},
   "cell_type": "markdown",
   "metadata": {},
   "source": [
    "## Fit a Baseline Model"
   ]
  },
  {
   "cell_type": "code",
   "execution_count": 27,
   "metadata": {},
   "outputs": [
    {
     "data": {
      "text/html": [
       "Tracking run with wandb version 0.15.3"
      ],
      "text/plain": [
       "<IPython.core.display.HTML object>"
      ]
     },
     "metadata": {},
     "output_type": "display_data"
    },
    {
     "data": {
      "text/html": [
       "Run data is saved locally in <code>/home/pascal/Projects/my/mlops-zoomcamp/02-2-experiment-tracking-wandb/wandb/run-20230605_222522-c612g38t</code>"
      ],
      "text/plain": [
       "<IPython.core.display.HTML object>"
      ]
     },
     "metadata": {},
     "output_type": "display_data"
    },
    {
     "data": {
      "text/html": [
       "Syncing run <strong><a href='https://wandb.ai/pascalblanc/mlops-zoomcamp-wandb/runs/c612g38t' target=\"_blank\">baseline_experiment-2</a></strong> to <a href='https://wandb.ai/pascalblanc/mlops-zoomcamp-wandb' target=\"_blank\">Weights & Biases</a> (<a href='https://wandb.me/run' target=\"_blank\">docs</a>)<br/>"
      ],
      "text/plain": [
       "<IPython.core.display.HTML object>"
      ]
     },
     "metadata": {},
     "output_type": "display_data"
    },
    {
     "data": {
      "text/html": [
       " View project at <a href='https://wandb.ai/pascalblanc/mlops-zoomcamp-wandb' target=\"_blank\">https://wandb.ai/pascalblanc/mlops-zoomcamp-wandb</a>"
      ],
      "text/plain": [
       "<IPython.core.display.HTML object>"
      ]
     },
     "metadata": {},
     "output_type": "display_data"
    },
    {
     "data": {
      "text/html": [
       " View run at <a href='https://wandb.ai/pascalblanc/mlops-zoomcamp-wandb/runs/c612g38t' target=\"_blank\">https://wandb.ai/pascalblanc/mlops-zoomcamp-wandb/runs/c612g38t</a>"
      ],
      "text/plain": [
       "<IPython.core.display.HTML object>"
      ]
     },
     "metadata": {},
     "output_type": "display_data"
    },
    {
     "name": "stderr",
     "output_type": "stream",
     "text": [
      "\u001b[34m\u001b[1mwandb\u001b[0m:   3 of 3 files downloaded.  \n"
     ]
    }
   ],
   "source": [
    "# Initialize a WandB Run\n",
    "wandb.init(project=\"mlops-zoomcamp-wandb\", name=\"baseline_experiment-2\", job_type=\"train\")\n",
    "\n",
    "# Fetch the latest version of the dataset artifact \n",
    "artifact = wandb.use_artifact('pascalblanc/mlops-zoomcamp-wandb/Titanic:latest', type='dataset')\n",
    "artifact_dir = artifact.download()\n",
    "\n",
    "# Read the files\n",
    "train_val_df = pd.read_csv(os.path.join(artifact_dir, \"train.csv\"))\n",
    "test_df = pd.read_csv(os.path.join(artifact_dir, \"test.csv\"))"
   ]
  },
  {
   "cell_type": "code",
   "execution_count": 28,
   "metadata": {},
   "outputs": [],
   "source": [
    "features = [\"Pclass\", \"Sex\", \"SibSp\", \"Parch\"]\n",
    "X_train = pd.get_dummies(train_val_df[features][train_val_df[\"Split\"] == \"Train\"])\n",
    "X_val = pd.get_dummies(train_val_df[features][train_val_df[\"Split\"] == \"Validation\"])\n",
    "y_train = train_val_df[\"Survived\"][train_val_df[\"Split\"] == \"Train\"]\n",
    "y_val = train_val_df[\"Survived\"][train_val_df[\"Split\"] == \"Validation\"]"
   ]
  },
  {
   "cell_type": "code",
   "execution_count": 29,
   "metadata": {},
   "outputs": [],
   "source": [
    "model_params = {\"n_estimators\": 100, \"max_depth\": 15, \"random_state\": 1}\n",
    "wandb.config = model_params\n",
    "\n",
    "model = RandomForestClassifier(**model_params)\n",
    "model.fit(X_train, y_train)\n",
    "\n",
    "y_pred_train = model.predict(X_train)\n",
    "y_probas_train = model.predict_proba(X_train)\n",
    "y_pred_val = model.predict(X_val)\n",
    "y_probas_val = model.predict_proba(X_val)"
   ]
  },
  {
   "cell_type": "code",
   "execution_count": 30,
   "metadata": {},
   "outputs": [],
   "source": [
    "wandb.log({\n",
    "    \"Train/Accuracy\": accuracy_score(y_train, y_pred_train),\n",
    "    \"Validation/Accuracy\": accuracy_score(y_val, y_pred_val),\n",
    "    \"Train/Presicion\": precision_score(y_train, y_pred_train),\n",
    "    \"Validation/Presicion\": precision_score(y_val, y_pred_val),\n",
    "    \"Train/Recall\": recall_score(y_train, y_pred_train),\n",
    "    \"Validation/Recall\": recall_score(y_val, y_pred_val),\n",
    "    \"Train/F1-Score\": f1_score(y_train, y_pred_train),\n",
    "    \"Validation/F1-Score\": f1_score(y_val, y_pred_val),\n",
    "})"
   ]
  },
  {
   "cell_type": "code",
   "execution_count": 31,
   "metadata": {},
   "outputs": [
    {
     "name": "stderr",
     "output_type": "stream",
     "text": [
      "/home/pascal/miniconda3/envs/mlobs/lib/python3.9/site-packages/sklearn/base.py:439: UserWarning: X does not have valid feature names, but RandomForestClassifier was fitted with feature names\n",
      "  warnings.warn(\n"
     ]
    }
   ],
   "source": [
    "label_names = [\"Not-Survived\", \"Survived\"]\n",
    "\n",
    "wandb.sklearn.plot_class_proportions(y_train, y_val, label_names)\n",
    "wandb.sklearn.plot_summary_metrics(model, X_train, y_train, X_val, y_val)\n",
    "wandb.sklearn.plot_roc(y_val, y_probas_val, labels=label_names)\n",
    "wandb.sklearn.plot_precision_recall(y_val, y_probas_val, labels=label_names)\n",
    "wandb.sklearn.plot_confusion_matrix(y_val, y_pred_val, labels=label_names)"
   ]
  },
  {
   "cell_type": "code",
   "execution_count": 32,
   "metadata": {},
   "outputs": [
    {
     "data": {
      "text/html": [
       "Waiting for W&B process to finish... <strong style=\"color:green\">(success).</strong>"
      ],
      "text/plain": [
       "<IPython.core.display.HTML object>"
      ]
     },
     "metadata": {},
     "output_type": "display_data"
    },
    {
     "data": {
      "text/html": [
       "<style>\n",
       "    table.wandb td:nth-child(1) { padding: 0 10px; text-align: left ; width: auto;} td:nth-child(2) {text-align: left ; width: 100%}\n",
       "    .wandb-row { display: flex; flex-direction: row; flex-wrap: wrap; justify-content: flex-start; width: 100% }\n",
       "    .wandb-col { display: flex; flex-direction: column; flex-basis: 100%; flex: 1; padding: 10px; }\n",
       "    </style>\n",
       "<div class=\"wandb-row\"><div class=\"wandb-col\"><h3>Run history:</h3><br/><table class=\"wandb\"><tr><td>Train/Accuracy</td><td>▁</td></tr><tr><td>Train/F1-Score</td><td>▁</td></tr><tr><td>Train/Presicion</td><td>▁</td></tr><tr><td>Train/Recall</td><td>▁</td></tr><tr><td>Validation/Accuracy</td><td>▁</td></tr><tr><td>Validation/F1-Score</td><td>▁</td></tr><tr><td>Validation/Presicion</td><td>▁</td></tr><tr><td>Validation/Recall</td><td>▁</td></tr></table><br/></div><div class=\"wandb-col\"><h3>Run summary:</h3><br/><table class=\"wandb\"><tr><td>Train/Accuracy</td><td>0.8118</td></tr><tr><td>Train/F1-Score</td><td>0.73307</td></tr><tr><td>Train/Presicion</td><td>0.82143</td></tr><tr><td>Train/Recall</td><td>0.66187</td></tr><tr><td>Validation/Accuracy</td><td>0.82123</td></tr><tr><td>Validation/F1-Score</td><td>0.72881</td></tr><tr><td>Validation/Presicion</td><td>0.7963</td></tr><tr><td>Validation/Recall</td><td>0.67188</td></tr></table><br/></div></div>"
      ],
      "text/plain": [
       "<IPython.core.display.HTML object>"
      ]
     },
     "metadata": {},
     "output_type": "display_data"
    },
    {
     "data": {
      "text/html": [
       " View run <strong style=\"color:#cdcd00\">baseline_experiment-2</strong> at: <a href='https://wandb.ai/pascalblanc/mlops-zoomcamp-wandb/runs/c612g38t' target=\"_blank\">https://wandb.ai/pascalblanc/mlops-zoomcamp-wandb/runs/c612g38t</a><br/>Synced 6 W&B file(s), 5 media file(s), 6 artifact file(s) and 0 other file(s)"
      ],
      "text/plain": [
       "<IPython.core.display.HTML object>"
      ]
     },
     "metadata": {},
     "output_type": "display_data"
    },
    {
     "data": {
      "text/html": [
       "Find logs at: <code>./wandb/run-20230605_222522-c612g38t/logs</code>"
      ],
      "text/plain": [
       "<IPython.core.display.HTML object>"
      ]
     },
     "metadata": {},
     "output_type": "display_data"
    }
   ],
   "source": [
    "# Save your model\n",
    "with open(\"random_forest_classifier.pkl\", \"wb\") as f:\n",
    "    pickle.dump(model, f)\n",
    "\n",
    "# Log your model as a versioned file to Weights & Biases Artifact\n",
    "artifact = wandb.Artifact(f\"titanic-random-forest-model\", type=\"model\")\n",
    "artifact.add_file(\"random_forest_classifier.pkl\")\n",
    "wandb.log_artifact(artifact)\n",
    "\n",
    "\n",
    "# End the WandB Run\n",
    "wandb.finish()"
   ]
  },
  {
   "cell_type": "code",
   "execution_count": 1,
   "metadata": {},
   "outputs": [
    {
     "name": "stdout",
     "output_type": "stream",
     "text": [
      "Create sweep with ID: siqwc0ms\n",
      "Sweep URL: https://wandb.ai/pascalblanc/mlops-zoomcamp-wandb/sweeps/siqwc0ms\n",
      "\u001b[34m\u001b[1mwandb\u001b[0m: Agent Starting Run: mtlzuob8 with config:\n",
      "\u001b[34m\u001b[1mwandb\u001b[0m: \tbootstrap: True\n",
      "\u001b[34m\u001b[1mwandb\u001b[0m: \tclass_weight: balanced_subsample\n",
      "\u001b[34m\u001b[1mwandb\u001b[0m: \tmax_depth: 12\n",
      "\u001b[34m\u001b[1mwandb\u001b[0m: \tmin_samples_leaf: 4\n",
      "\u001b[34m\u001b[1mwandb\u001b[0m: \tmin_samples_split: 8\n",
      "\u001b[34m\u001b[1mwandb\u001b[0m: \tn_estimators: 54\n",
      "\u001b[34m\u001b[1mwandb\u001b[0m: \twarm_start: True\n",
      "\u001b[34m\u001b[1mwandb\u001b[0m: Currently logged in as: \u001b[33mpascalblanc\u001b[0m. Use \u001b[1m`wandb login --relogin`\u001b[0m to force relogin\n",
      "\u001b[34m\u001b[1mwandb\u001b[0m: Tracking run with wandb version 0.15.3\n",
      "\u001b[34m\u001b[1mwandb\u001b[0m: Run data is saved locally in \u001b[35m\u001b[1m/home/pascal/Projects/my/mlops-zoomcamp/02-2-experiment-tracking-wandb/wandb/run-20230606_183510-mtlzuob8\u001b[0m\n",
      "\u001b[34m\u001b[1mwandb\u001b[0m: Run \u001b[1m`wandb offline`\u001b[0m to turn off syncing.\n",
      "\u001b[34m\u001b[1mwandb\u001b[0m: Syncing run \u001b[33mglowing-sweep-1\u001b[0m\n",
      "\u001b[34m\u001b[1mwandb\u001b[0m: ⭐️ View project at \u001b[34m\u001b[4mhttps://wandb.ai/pascalblanc/mlops-zoomcamp-wandb\u001b[0m\n",
      "\u001b[34m\u001b[1mwandb\u001b[0m: 🧹 View sweep at \u001b[34m\u001b[4mhttps://wandb.ai/pascalblanc/mlops-zoomcamp-wandb/sweeps/siqwc0ms\u001b[0m\n",
      "\u001b[34m\u001b[1mwandb\u001b[0m: 🚀 View run at \u001b[34m\u001b[4mhttps://wandb.ai/pascalblanc/mlops-zoomcamp-wandb/runs/mtlzuob8\u001b[0m\n",
      "\u001b[34m\u001b[1mwandb\u001b[0m:   3 of 3 files downloaded.  \n",
      "/home/pascal/miniconda3/envs/mlobs/lib/python3.9/site-packages/sklearn/ensemble/_forest.py:777: UserWarning: class_weight presets \"balanced\" or \"balanced_subsample\" are not recommended for warm_start if the fitted data differs from the full dataset. In order to use \"balanced\" weights, use compute_class_weight (\"balanced\", classes, y). In place of y you can use a large enough sample of the full training set target to properly estimate the class frequency distributions. Pass the resulting weights as the class_weight parameter.\n",
      "  warn(\n",
      "/home/pascal/miniconda3/envs/mlobs/lib/python3.9/site-packages/sklearn/base.py:439: UserWarning: X does not have valid feature names, but RandomForestClassifier was fitted with feature names\n",
      "  warnings.warn(\n",
      "\u001b[34m\u001b[1mwandb\u001b[0m: \u001b[33mWARNING\u001b[0m wandb.plots.* functions are deprecated and will be removed in a future release. Please use wandb.plot.* instead.\n",
      "\u001b[34m\u001b[1mwandb\u001b[0m: Waiting for W&B process to finish... \u001b[32m(success).\u001b[0m\n",
      "\u001b[34m\u001b[1mwandb\u001b[0m: \n",
      "\u001b[34m\u001b[1mwandb\u001b[0m: Run history:\n",
      "\u001b[34m\u001b[1mwandb\u001b[0m:       Train/Accuracy ▁\n",
      "\u001b[34m\u001b[1mwandb\u001b[0m:       Train/F1-Score ▁\n",
      "\u001b[34m\u001b[1mwandb\u001b[0m:      Train/Presicion ▁\n",
      "\u001b[34m\u001b[1mwandb\u001b[0m:         Train/Recall ▁\n",
      "\u001b[34m\u001b[1mwandb\u001b[0m:  Validation/Accuracy ▁\n",
      "\u001b[34m\u001b[1mwandb\u001b[0m:  Validation/F1-Score ▁\n",
      "\u001b[34m\u001b[1mwandb\u001b[0m: Validation/Presicion ▁\n",
      "\u001b[34m\u001b[1mwandb\u001b[0m:    Validation/Recall ▁\n",
      "\u001b[34m\u001b[1mwandb\u001b[0m: \n",
      "\u001b[34m\u001b[1mwandb\u001b[0m: Run summary:\n",
      "\u001b[34m\u001b[1mwandb\u001b[0m:       Train/Accuracy 0.80337\n",
      "\u001b[34m\u001b[1mwandb\u001b[0m:       Train/F1-Score 0.74265\n",
      "\u001b[34m\u001b[1mwandb\u001b[0m:      Train/Presicion 0.7594\n",
      "\u001b[34m\u001b[1mwandb\u001b[0m:         Train/Recall 0.72662\n",
      "\u001b[34m\u001b[1mwandb\u001b[0m:  Validation/Accuracy 0.82682\n",
      "\u001b[34m\u001b[1mwandb\u001b[0m:  Validation/F1-Score 0.75591\n",
      "\u001b[34m\u001b[1mwandb\u001b[0m: Validation/Presicion 0.7619\n",
      "\u001b[34m\u001b[1mwandb\u001b[0m:    Validation/Recall 0.75\n",
      "\u001b[34m\u001b[1mwandb\u001b[0m: \n",
      "\u001b[34m\u001b[1mwandb\u001b[0m: 🚀 View run \u001b[33mglowing-sweep-1\u001b[0m at: \u001b[34m\u001b[4mhttps://wandb.ai/pascalblanc/mlops-zoomcamp-wandb/runs/mtlzuob8\u001b[0m\n",
      "\u001b[34m\u001b[1mwandb\u001b[0m: Synced 6 W&B file(s), 5 media file(s), 6 artifact file(s) and 0 other file(s)\n",
      "\u001b[34m\u001b[1mwandb\u001b[0m: Find logs at: \u001b[35m\u001b[1m./wandb/run-20230606_183510-mtlzuob8/logs\u001b[0m\n",
      "\u001b[34m\u001b[1mwandb\u001b[0m: Sweep Agent: Waiting for job.\n",
      "\u001b[34m\u001b[1mwandb\u001b[0m: Job received.\n",
      "\u001b[34m\u001b[1mwandb\u001b[0m: Agent Starting Run: gzrcf2jq with config:\n",
      "\u001b[34m\u001b[1mwandb\u001b[0m: \tbootstrap: True\n",
      "\u001b[34m\u001b[1mwandb\u001b[0m: \tclass_weight: balanced\n",
      "\u001b[34m\u001b[1mwandb\u001b[0m: \tmax_depth: 1\n",
      "\u001b[34m\u001b[1mwandb\u001b[0m: \tmin_samples_leaf: 1\n",
      "\u001b[34m\u001b[1mwandb\u001b[0m: \tmin_samples_split: 8\n",
      "\u001b[34m\u001b[1mwandb\u001b[0m: \tn_estimators: 94\n",
      "\u001b[34m\u001b[1mwandb\u001b[0m: \twarm_start: False\n",
      "\u001b[34m\u001b[1mwandb\u001b[0m: Tracking run with wandb version 0.15.3\n",
      "\u001b[34m\u001b[1mwandb\u001b[0m: Run data is saved locally in \u001b[35m\u001b[1m/home/pascal/Projects/my/mlops-zoomcamp/02-2-experiment-tracking-wandb/wandb/run-20230606_183616-gzrcf2jq\u001b[0m\n",
      "\u001b[34m\u001b[1mwandb\u001b[0m: Run \u001b[1m`wandb offline`\u001b[0m to turn off syncing.\n",
      "\u001b[34m\u001b[1mwandb\u001b[0m: Syncing run \u001b[33mkind-sweep-2\u001b[0m\n",
      "\u001b[34m\u001b[1mwandb\u001b[0m: ⭐️ View project at \u001b[34m\u001b[4mhttps://wandb.ai/pascalblanc/mlops-zoomcamp-wandb\u001b[0m\n",
      "\u001b[34m\u001b[1mwandb\u001b[0m: 🧹 View sweep at \u001b[34m\u001b[4mhttps://wandb.ai/pascalblanc/mlops-zoomcamp-wandb/sweeps/siqwc0ms\u001b[0m\n",
      "\u001b[34m\u001b[1mwandb\u001b[0m: 🚀 View run at \u001b[34m\u001b[4mhttps://wandb.ai/pascalblanc/mlops-zoomcamp-wandb/runs/gzrcf2jq\u001b[0m\n",
      "\u001b[34m\u001b[1mwandb\u001b[0m:   3 of 3 files downloaded.  \n",
      "/home/pascal/miniconda3/envs/mlobs/lib/python3.9/site-packages/sklearn/base.py:439: UserWarning: X does not have valid feature names, but RandomForestClassifier was fitted with feature names\n",
      "  warnings.warn(\n",
      "\u001b[34m\u001b[1mwandb\u001b[0m: Waiting for W&B process to finish... \u001b[32m(success).\u001b[0m\n",
      "\u001b[34m\u001b[1mwandb\u001b[0m: \n",
      "\u001b[34m\u001b[1mwandb\u001b[0m: Run history:\n",
      "\u001b[34m\u001b[1mwandb\u001b[0m:       Train/Accuracy ▁\n",
      "\u001b[34m\u001b[1mwandb\u001b[0m:       Train/F1-Score ▁\n",
      "\u001b[34m\u001b[1mwandb\u001b[0m:      Train/Presicion ▁\n",
      "\u001b[34m\u001b[1mwandb\u001b[0m:         Train/Recall ▁\n",
      "\u001b[34m\u001b[1mwandb\u001b[0m:  Validation/Accuracy ▁\n",
      "\u001b[34m\u001b[1mwandb\u001b[0m:  Validation/F1-Score ▁\n",
      "\u001b[34m\u001b[1mwandb\u001b[0m: Validation/Presicion ▁\n",
      "\u001b[34m\u001b[1mwandb\u001b[0m:    Validation/Recall ▁\n",
      "\u001b[34m\u001b[1mwandb\u001b[0m: \n",
      "\u001b[34m\u001b[1mwandb\u001b[0m: Run summary:\n",
      "\u001b[34m\u001b[1mwandb\u001b[0m:       Train/Accuracy 0.78371\n",
      "\u001b[34m\u001b[1mwandb\u001b[0m:       Train/F1-Score 0.71161\n",
      "\u001b[34m\u001b[1mwandb\u001b[0m:      Train/Presicion 0.74219\n",
      "\u001b[34m\u001b[1mwandb\u001b[0m:         Train/Recall 0.68345\n",
      "\u001b[34m\u001b[1mwandb\u001b[0m:  Validation/Accuracy 0.79888\n",
      "\u001b[34m\u001b[1mwandb\u001b[0m:  Validation/F1-Score 0.70492\n",
      "\u001b[34m\u001b[1mwandb\u001b[0m: Validation/Presicion 0.74138\n",
      "\u001b[34m\u001b[1mwandb\u001b[0m:    Validation/Recall 0.67188\n",
      "\u001b[34m\u001b[1mwandb\u001b[0m: \n",
      "\u001b[34m\u001b[1mwandb\u001b[0m: 🚀 View run \u001b[33mkind-sweep-2\u001b[0m at: \u001b[34m\u001b[4mhttps://wandb.ai/pascalblanc/mlops-zoomcamp-wandb/runs/gzrcf2jq\u001b[0m\n",
      "\u001b[34m\u001b[1mwandb\u001b[0m: Synced 6 W&B file(s), 5 media file(s), 6 artifact file(s) and 0 other file(s)\n",
      "\u001b[34m\u001b[1mwandb\u001b[0m: Find logs at: \u001b[35m\u001b[1m./wandb/run-20230606_183616-gzrcf2jq/logs\u001b[0m\n",
      "\u001b[34m\u001b[1mwandb\u001b[0m: Sweep Agent: Waiting for job.\n",
      "\u001b[34m\u001b[1mwandb\u001b[0m: Job received.\n",
      "\u001b[34m\u001b[1mwandb\u001b[0m: Agent Starting Run: oq009rbm with config:\n",
      "\u001b[34m\u001b[1mwandb\u001b[0m: \tbootstrap: False\n",
      "\u001b[34m\u001b[1mwandb\u001b[0m: \tclass_weight: balanced\n",
      "\u001b[34m\u001b[1mwandb\u001b[0m: \tmax_depth: 9\n",
      "\u001b[34m\u001b[1mwandb\u001b[0m: \tmin_samples_leaf: 3\n",
      "\u001b[34m\u001b[1mwandb\u001b[0m: \tmin_samples_split: 10\n",
      "\u001b[34m\u001b[1mwandb\u001b[0m: \tn_estimators: 39\n",
      "\u001b[34m\u001b[1mwandb\u001b[0m: \twarm_start: False\n",
      "\u001b[34m\u001b[1mwandb\u001b[0m: Tracking run with wandb version 0.15.3\n",
      "\u001b[34m\u001b[1mwandb\u001b[0m: Run data is saved locally in \u001b[35m\u001b[1m/home/pascal/Projects/my/mlops-zoomcamp/02-2-experiment-tracking-wandb/wandb/run-20230606_183704-oq009rbm\u001b[0m\n",
      "\u001b[34m\u001b[1mwandb\u001b[0m: Run \u001b[1m`wandb offline`\u001b[0m to turn off syncing.\n",
      "\u001b[34m\u001b[1mwandb\u001b[0m: Syncing run \u001b[33msmooth-sweep-3\u001b[0m\n",
      "\u001b[34m\u001b[1mwandb\u001b[0m: ⭐️ View project at \u001b[34m\u001b[4mhttps://wandb.ai/pascalblanc/mlops-zoomcamp-wandb\u001b[0m\n",
      "\u001b[34m\u001b[1mwandb\u001b[0m: 🧹 View sweep at \u001b[34m\u001b[4mhttps://wandb.ai/pascalblanc/mlops-zoomcamp-wandb/sweeps/siqwc0ms\u001b[0m\n",
      "\u001b[34m\u001b[1mwandb\u001b[0m: 🚀 View run at \u001b[34m\u001b[4mhttps://wandb.ai/pascalblanc/mlops-zoomcamp-wandb/runs/oq009rbm\u001b[0m\n",
      "\u001b[34m\u001b[1mwandb\u001b[0m:   3 of 3 files downloaded.  \n",
      "/home/pascal/miniconda3/envs/mlobs/lib/python3.9/site-packages/sklearn/base.py:439: UserWarning: X does not have valid feature names, but RandomForestClassifier was fitted with feature names\n",
      "  warnings.warn(\n",
      "\u001b[34m\u001b[1mwandb\u001b[0m: Waiting for W&B process to finish... \u001b[32m(success).\u001b[0m\n",
      "\u001b[34m\u001b[1mwandb\u001b[0m: \n",
      "\u001b[34m\u001b[1mwandb\u001b[0m: Run history:\n",
      "\u001b[34m\u001b[1mwandb\u001b[0m:       Train/Accuracy ▁\n",
      "\u001b[34m\u001b[1mwandb\u001b[0m:       Train/F1-Score ▁\n",
      "\u001b[34m\u001b[1mwandb\u001b[0m:      Train/Presicion ▁\n",
      "\u001b[34m\u001b[1mwandb\u001b[0m:         Train/Recall ▁\n",
      "\u001b[34m\u001b[1mwandb\u001b[0m:  Validation/Accuracy ▁\n",
      "\u001b[34m\u001b[1mwandb\u001b[0m:  Validation/F1-Score ▁\n",
      "\u001b[34m\u001b[1mwandb\u001b[0m: Validation/Presicion ▁\n",
      "\u001b[34m\u001b[1mwandb\u001b[0m:    Validation/Recall ▁\n",
      "\u001b[34m\u001b[1mwandb\u001b[0m: \n",
      "\u001b[34m\u001b[1mwandb\u001b[0m: Run summary:\n",
      "\u001b[34m\u001b[1mwandb\u001b[0m:       Train/Accuracy 0.80478\n",
      "\u001b[34m\u001b[1mwandb\u001b[0m:       Train/F1-Score 0.74773\n",
      "\u001b[34m\u001b[1mwandb\u001b[0m:      Train/Presicion 0.75458\n",
      "\u001b[34m\u001b[1mwandb\u001b[0m:         Train/Recall 0.74101\n",
      "\u001b[34m\u001b[1mwandb\u001b[0m:  Validation/Accuracy 0.82682\n",
      "\u001b[34m\u001b[1mwandb\u001b[0m:  Validation/F1-Score 0.75591\n",
      "\u001b[34m\u001b[1mwandb\u001b[0m: Validation/Presicion 0.7619\n",
      "\u001b[34m\u001b[1mwandb\u001b[0m:    Validation/Recall 0.75\n",
      "\u001b[34m\u001b[1mwandb\u001b[0m: \n",
      "\u001b[34m\u001b[1mwandb\u001b[0m: 🚀 View run \u001b[33msmooth-sweep-3\u001b[0m at: \u001b[34m\u001b[4mhttps://wandb.ai/pascalblanc/mlops-zoomcamp-wandb/runs/oq009rbm\u001b[0m\n",
      "\u001b[34m\u001b[1mwandb\u001b[0m: Synced 6 W&B file(s), 5 media file(s), 6 artifact file(s) and 0 other file(s)\n",
      "\u001b[34m\u001b[1mwandb\u001b[0m: Find logs at: \u001b[35m\u001b[1m./wandb/run-20230606_183704-oq009rbm/logs\u001b[0m\n",
      "\u001b[34m\u001b[1mwandb\u001b[0m: Sweep Agent: Waiting for job.\n",
      "\u001b[34m\u001b[1mwandb\u001b[0m: Job received.\n",
      "\u001b[34m\u001b[1mwandb\u001b[0m: Agent Starting Run: qt2liufx with config:\n",
      "\u001b[34m\u001b[1mwandb\u001b[0m: \tbootstrap: False\n",
      "\u001b[34m\u001b[1mwandb\u001b[0m: \tclass_weight: balanced\n",
      "\u001b[34m\u001b[1mwandb\u001b[0m: \tmax_depth: 9\n",
      "\u001b[34m\u001b[1mwandb\u001b[0m: \tmin_samples_leaf: 3\n",
      "\u001b[34m\u001b[1mwandb\u001b[0m: \tmin_samples_split: 9\n",
      "\u001b[34m\u001b[1mwandb\u001b[0m: \tn_estimators: 43\n",
      "\u001b[34m\u001b[1mwandb\u001b[0m: \twarm_start: False\n",
      "\u001b[34m\u001b[1mwandb\u001b[0m: Tracking run with wandb version 0.15.3\n",
      "\u001b[34m\u001b[1mwandb\u001b[0m: Run data is saved locally in \u001b[35m\u001b[1m/home/pascal/Projects/my/mlops-zoomcamp/02-2-experiment-tracking-wandb/wandb/run-20230606_183758-qt2liufx\u001b[0m\n",
      "\u001b[34m\u001b[1mwandb\u001b[0m: Run \u001b[1m`wandb offline`\u001b[0m to turn off syncing.\n",
      "\u001b[34m\u001b[1mwandb\u001b[0m: Syncing run \u001b[33matomic-sweep-4\u001b[0m\n",
      "\u001b[34m\u001b[1mwandb\u001b[0m: ⭐️ View project at \u001b[34m\u001b[4mhttps://wandb.ai/pascalblanc/mlops-zoomcamp-wandb\u001b[0m\n",
      "\u001b[34m\u001b[1mwandb\u001b[0m: 🧹 View sweep at \u001b[34m\u001b[4mhttps://wandb.ai/pascalblanc/mlops-zoomcamp-wandb/sweeps/siqwc0ms\u001b[0m\n",
      "\u001b[34m\u001b[1mwandb\u001b[0m: 🚀 View run at \u001b[34m\u001b[4mhttps://wandb.ai/pascalblanc/mlops-zoomcamp-wandb/runs/qt2liufx\u001b[0m\n",
      "\u001b[34m\u001b[1mwandb\u001b[0m:   3 of 3 files downloaded.  \n",
      "/home/pascal/miniconda3/envs/mlobs/lib/python3.9/site-packages/sklearn/base.py:439: UserWarning: X does not have valid feature names, but RandomForestClassifier was fitted with feature names\n",
      "  warnings.warn(\n",
      "\u001b[34m\u001b[1mwandb\u001b[0m: Waiting for W&B process to finish... \u001b[32m(success).\u001b[0m\n",
      "\u001b[34m\u001b[1mwandb\u001b[0m: \n",
      "\u001b[34m\u001b[1mwandb\u001b[0m: Run history:\n",
      "\u001b[34m\u001b[1mwandb\u001b[0m:       Train/Accuracy ▁\n",
      "\u001b[34m\u001b[1mwandb\u001b[0m:       Train/F1-Score ▁\n",
      "\u001b[34m\u001b[1mwandb\u001b[0m:      Train/Presicion ▁\n",
      "\u001b[34m\u001b[1mwandb\u001b[0m:         Train/Recall ▁\n",
      "\u001b[34m\u001b[1mwandb\u001b[0m:  Validation/Accuracy ▁\n",
      "\u001b[34m\u001b[1mwandb\u001b[0m:  Validation/F1-Score ▁\n",
      "\u001b[34m\u001b[1mwandb\u001b[0m: Validation/Presicion ▁\n",
      "\u001b[34m\u001b[1mwandb\u001b[0m:    Validation/Recall ▁\n",
      "\u001b[34m\u001b[1mwandb\u001b[0m: \n",
      "\u001b[34m\u001b[1mwandb\u001b[0m: Run summary:\n",
      "\u001b[34m\u001b[1mwandb\u001b[0m:       Train/Accuracy 0.80337\n",
      "\u001b[34m\u001b[1mwandb\u001b[0m:       Train/F1-Score 0.74638\n",
      "\u001b[34m\u001b[1mwandb\u001b[0m:      Train/Presicion 0.75182\n",
      "\u001b[34m\u001b[1mwandb\u001b[0m:         Train/Recall 0.74101\n",
      "\u001b[34m\u001b[1mwandb\u001b[0m:  Validation/Accuracy 0.82682\n",
      "\u001b[34m\u001b[1mwandb\u001b[0m:  Validation/F1-Score 0.75591\n",
      "\u001b[34m\u001b[1mwandb\u001b[0m: Validation/Presicion 0.7619\n",
      "\u001b[34m\u001b[1mwandb\u001b[0m:    Validation/Recall 0.75\n",
      "\u001b[34m\u001b[1mwandb\u001b[0m: \n",
      "\u001b[34m\u001b[1mwandb\u001b[0m: 🚀 View run \u001b[33matomic-sweep-4\u001b[0m at: \u001b[34m\u001b[4mhttps://wandb.ai/pascalblanc/mlops-zoomcamp-wandb/runs/qt2liufx\u001b[0m\n",
      "\u001b[34m\u001b[1mwandb\u001b[0m: Synced 6 W&B file(s), 5 media file(s), 6 artifact file(s) and 0 other file(s)\n",
      "\u001b[34m\u001b[1mwandb\u001b[0m: Find logs at: \u001b[35m\u001b[1m./wandb/run-20230606_183758-qt2liufx/logs\u001b[0m\n",
      "\u001b[34m\u001b[1mwandb\u001b[0m: Sweep Agent: Waiting for job.\n",
      "\u001b[34m\u001b[1mwandb\u001b[0m: Job received.\n",
      "\u001b[34m\u001b[1mwandb\u001b[0m: Agent Starting Run: dwn88a7d with config:\n",
      "\u001b[34m\u001b[1mwandb\u001b[0m: \tbootstrap: False\n",
      "\u001b[34m\u001b[1mwandb\u001b[0m: \tclass_weight: balanced_subsample\n",
      "\u001b[34m\u001b[1mwandb\u001b[0m: \tmax_depth: 18\n",
      "\u001b[34m\u001b[1mwandb\u001b[0m: \tmin_samples_leaf: 3\n",
      "\u001b[34m\u001b[1mwandb\u001b[0m: \tmin_samples_split: 10\n",
      "\u001b[34m\u001b[1mwandb\u001b[0m: \tn_estimators: 11\n",
      "\u001b[34m\u001b[1mwandb\u001b[0m: \twarm_start: False\n",
      "\u001b[34m\u001b[1mwandb\u001b[0m: Tracking run with wandb version 0.15.3\n",
      "\u001b[34m\u001b[1mwandb\u001b[0m: Run data is saved locally in \u001b[35m\u001b[1m/home/pascal/Projects/my/mlops-zoomcamp/02-2-experiment-tracking-wandb/wandb/run-20230606_183856-dwn88a7d\u001b[0m\n",
      "\u001b[34m\u001b[1mwandb\u001b[0m: Run \u001b[1m`wandb offline`\u001b[0m to turn off syncing.\n",
      "\u001b[34m\u001b[1mwandb\u001b[0m: Syncing run \u001b[33mdazzling-sweep-5\u001b[0m\n",
      "\u001b[34m\u001b[1mwandb\u001b[0m: ⭐️ View project at \u001b[34m\u001b[4mhttps://wandb.ai/pascalblanc/mlops-zoomcamp-wandb\u001b[0m\n",
      "\u001b[34m\u001b[1mwandb\u001b[0m: 🧹 View sweep at \u001b[34m\u001b[4mhttps://wandb.ai/pascalblanc/mlops-zoomcamp-wandb/sweeps/siqwc0ms\u001b[0m\n",
      "\u001b[34m\u001b[1mwandb\u001b[0m: 🚀 View run at \u001b[34m\u001b[4mhttps://wandb.ai/pascalblanc/mlops-zoomcamp-wandb/runs/dwn88a7d\u001b[0m\n",
      "\u001b[34m\u001b[1mwandb\u001b[0m:   3 of 3 files downloaded.  \n",
      "/home/pascal/miniconda3/envs/mlobs/lib/python3.9/site-packages/sklearn/base.py:439: UserWarning: X does not have valid feature names, but RandomForestClassifier was fitted with feature names\n",
      "  warnings.warn(\n",
      "\u001b[34m\u001b[1mwandb\u001b[0m: Waiting for W&B process to finish... \u001b[32m(success).\u001b[0m\n",
      "\u001b[34m\u001b[1mwandb\u001b[0m: \n",
      "\u001b[34m\u001b[1mwandb\u001b[0m: Run history:\n",
      "\u001b[34m\u001b[1mwandb\u001b[0m:       Train/Accuracy ▁\n",
      "\u001b[34m\u001b[1mwandb\u001b[0m:       Train/F1-Score ▁\n",
      "\u001b[34m\u001b[1mwandb\u001b[0m:      Train/Presicion ▁\n",
      "\u001b[34m\u001b[1mwandb\u001b[0m:         Train/Recall ▁\n",
      "\u001b[34m\u001b[1mwandb\u001b[0m:  Validation/Accuracy ▁\n",
      "\u001b[34m\u001b[1mwandb\u001b[0m:  Validation/F1-Score ▁\n",
      "\u001b[34m\u001b[1mwandb\u001b[0m: Validation/Presicion ▁\n",
      "\u001b[34m\u001b[1mwandb\u001b[0m:    Validation/Recall ▁\n",
      "\u001b[34m\u001b[1mwandb\u001b[0m: \n",
      "\u001b[34m\u001b[1mwandb\u001b[0m: Run summary:\n",
      "\u001b[34m\u001b[1mwandb\u001b[0m:       Train/Accuracy 0.80337\n",
      "\u001b[34m\u001b[1mwandb\u001b[0m:       Train/F1-Score 0.74638\n",
      "\u001b[34m\u001b[1mwandb\u001b[0m:      Train/Presicion 0.75182\n",
      "\u001b[34m\u001b[1mwandb\u001b[0m:         Train/Recall 0.74101\n",
      "\u001b[34m\u001b[1mwandb\u001b[0m:  Validation/Accuracy 0.83799\n",
      "\u001b[34m\u001b[1mwandb\u001b[0m:  Validation/F1-Score 0.768\n",
      "\u001b[34m\u001b[1mwandb\u001b[0m: Validation/Presicion 0.78689\n",
      "\u001b[34m\u001b[1mwandb\u001b[0m:    Validation/Recall 0.75\n",
      "\u001b[34m\u001b[1mwandb\u001b[0m: \n",
      "\u001b[34m\u001b[1mwandb\u001b[0m: 🚀 View run \u001b[33mdazzling-sweep-5\u001b[0m at: \u001b[34m\u001b[4mhttps://wandb.ai/pascalblanc/mlops-zoomcamp-wandb/runs/dwn88a7d\u001b[0m\n",
      "\u001b[34m\u001b[1mwandb\u001b[0m: Synced 6 W&B file(s), 5 media file(s), 6 artifact file(s) and 0 other file(s)\n",
      "\u001b[34m\u001b[1mwandb\u001b[0m: Find logs at: \u001b[35m\u001b[1m./wandb/run-20230606_183856-dwn88a7d/logs\u001b[0m\n"
     ]
    }
   ],
   "source": [
    "!python 02_hyperparameter_optimization.py"
   ]
  },
  {
   "cell_type": "code",
   "execution_count": null,
   "metadata": {},
   "outputs": [],
   "source": []
  }
 ],
 "metadata": {
  "kernelspec": {
   "display_name": "Python 3",
   "language": "python",
   "name": "python3"
  },
  "language_info": {
   "codemirror_mode": {
    "name": "ipython",
    "version": 3
   },
   "file_extension": ".py",
   "mimetype": "text/x-python",
   "name": "python",
   "nbconvert_exporter": "python",
   "pygments_lexer": "ipython3",
   "version": "3.9.16"
  },
  "orig_nbformat": 4
 },
 "nbformat": 4,
 "nbformat_minor": 2
}
